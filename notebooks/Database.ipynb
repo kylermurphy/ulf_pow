{
 "cells": [
  {
   "cell_type": "code",
   "execution_count": 2,
   "metadata": {},
   "outputs": [],
   "source": [
    "# import the module\n",
    "import os\n",
    "import pandas as pd\n",
    "import numpy as np\n",
    "\n",
    "from ulf_pow import io"
   ]
  },
  {
   "cell_type": "code",
   "execution_count": 9,
   "metadata": {},
   "outputs": [
    {
     "name": "stdout",
     "output_type": "stream",
     "text": [
      "Returning sum_psd:\n",
      "['gill']\n",
      "Downloading https://cdaweb.gsfc.nasa.gov/pub/data/omni//low_res_omni/omni2_2020.dat\n"
     ]
    },
    {
     "name": "stderr",
     "output_type": "stream",
     "text": [
      "100.0% 2883584 / 2881152\n"
     ]
    },
    {
     "name": "stdout",
     "output_type": "stream",
     "text": [
      "\n",
      "\n",
      "Adding omni data with lags:[0]\n",
      "GILL 2005\n",
      "GILL 2006\n",
      "GILL 2007\n",
      "GILL 2008\n",
      "GILL 2009\n",
      "GILL 2010\n",
      "GILL 2011\n",
      "GILL 2012\n",
      "GILL 2013\n",
      "GILL 2014\n",
      "GILL 2015\n",
      "GILL 2016\n",
      "GILL 2017\n",
      "GILL 2018\n",
      "GILL 2019\n"
     ]
    }
   ],
   "source": [
    "data_d = 'D:\\data\\magnetometer\\psd'\n",
    "data_f = 'gill_2005_2020.h5'\n",
    "\n",
    "#reading in of summed data \n",
    "sum_psd = io.ulf_database(site=['gill'],sdate='2005-01-01', edate='2020-01-01',psd_f=os.path.join(data_d,data_f), add_omni=True)"
   ]
  }
 ],
 "metadata": {
  "kernelspec": {
   "display_name": "Python 3",
   "language": "python",
   "name": "python3"
  },
  "language_info": {
   "codemirror_mode": {
    "name": "ipython",
    "version": 3
   },
   "file_extension": ".py",
   "mimetype": "text/x-python",
   "name": "python",
   "nbconvert_exporter": "python",
   "pygments_lexer": "ipython3",
   "version": "3.7.3"
  }
 },
 "nbformat": 4,
 "nbformat_minor": 2
}
