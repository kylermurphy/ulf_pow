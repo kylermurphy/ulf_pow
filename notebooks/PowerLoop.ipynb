{
 "cells": [
  {
   "cell_type": "code",
   "execution_count": 12,
   "metadata": {},
   "outputs": [
    {
     "name": "stdout",
     "output_type": "stream",
     "text": [
      "The autoreload extension is already loaded. To reload it, use:\n",
      "  %reload_ext autoreload\n"
     ]
    }
   ],
   "source": [
    "%load_ext autoreload\n",
    "%autoreload 2"
   ]
  },
  {
   "cell_type": "code",
   "execution_count": 13,
   "metadata": {},
   "outputs": [],
   "source": [
    "from IPython.core.interactiveshell import InteractiveShell\n",
    "InteractiveShell.ast_node_interactivity = \"all\""
   ]
  },
  {
   "cell_type": "code",
   "execution_count": 24,
   "metadata": {},
   "outputs": [],
   "source": [
    "# import the module\n",
    "import os, sys\n",
    "import pandas as pd\n",
    "import numpy as np\n",
    "\n",
    "\n",
    "# cheat to get the ulf_pow added to the pyhton path\n",
    "# without installing\n",
    "#os.chdir('../')\n",
    "#os.getcwd()\n",
    "#sys.path.append(os.path.dirname(os.getcwd()))\n",
    "\n",
    "#from ulf_pow import pow\n",
    "\n",
    "# should also be able to run from\n",
    "# conda activate dev\n",
    "# as the conda.pth of dev\n",
    "# has both ulf_pow and gmag in it\n",
    "\n",
    "from ulf_pow import pow"
   ]
  },
  {
   "cell_type": "code",
   "execution_count": 25,
   "metadata": {},
   "outputs": [
    {
     "name": "stdout",
     "output_type": "stream",
     "text": [
      "Downloading Data:\n",
      "Loading: D:\\data\\magnetometer\\CANOPUS\\1999\\01\\GILL\\19990102GILL.MAG.gz\n",
      "Downloading Data:\n",
      "Loading: D:\\data\\magnetometer\\CANOPUS\\1999\\01\\GILL\\19990103GILL.MAG.gz\n",
      "5.0 0.2 720\n",
      "Downloading Data:\n",
      "Loading: D:\\data\\magnetometer\\CANOPUS\\1999\\01\\GILL\\19990104GILL.MAG.gz\n",
      "5.0 0.2 720\n",
      "Downloading Data:\n",
      "Loading: D:\\data\\magnetometer\\CANOPUS\\1999\\01\\GILL\\19990105GILL.MAG.gz\n",
      "5.0 0.2 720\n",
      "Downloading Data:\n",
      "Loading: D:\\data\\magnetometer\\CANOPUS\\1999\\01\\GILL\\19990106GILL.MAG.gz\n",
      "5.0 0.2 720\n",
      "Downloading Data:\n",
      "Loading: D:\\data\\magnetometer\\CANOPUS\\1999\\01\\GILL\\19990107GILL.MAG.gz\n",
      "5.0 0.2 720\n",
      "Downloading Data:\n",
      "Loading: D:\\data\\magnetometer\\CANOPUS\\1999\\01\\GILL\\19990108GILL.MAG.gz\n",
      "5.0 0.2 720\n"
     ]
    }
   ],
   "source": [
    "can_site = ['GILL']\n",
    "a = pow.canopus_pow(site=['GILL'],sdate='1999-01-02',edate='1999-01-08')\n"
   ]
  },
  {
   "cell_type": "code",
   "execution_count": null,
   "metadata": {},
   "outputs": [],
   "source": [
    "img_sites = ['ABK','AND','DOB','DON','HAN','HAR',\n",
    "             'IVA','JCK','KAR','KEV','KIL','KIR',\n",
    "             'LYC','MAS','MEK','MUO','NUR','OUJ',\n",
    "             'PEL','RAN','RVK','SOD','SOL','SOR',\n",
    "             'TAR','TRO','UPS']\n",
    "a = ulf_pow.pow.image_pow(site =img_sites,sdate='2019-09-21',edate='2019-10-31')"
   ]
  },
  {
   "cell_type": "code",
   "execution_count": null,
   "metadata": {},
   "outputs": [],
   "source": [
    "car_sites = ['ANNA','BACK','CONT','DAWS',\n",
    "             'ESKI','FCHP','FCHU','FSIM',\n",
    "             'FSMI','GILL','GULL','ISLL',\n",
    "             'LGRR','MCMU','MSTK','NORM',\n",
    "             'OSAK','OXFO','PINA','POLS',\n",
    "             'RABB','RANK','SACH','TALO',\n",
    "             'THRF','VULC','WEYB','WGRY']\n",
    "car_sites = ['BACK','FCHP','FCHU',\n",
    "             'FSIM','FSMI','GILL',\n",
    "             'ISLL','OXFO','RABB']\n",
    "a = ulf_pow.pow.carisma_pow(site =car_sites,sdate='2019-10-24',edate='2019-10-31')"
   ]
  },
  {
   "cell_type": "code",
   "execution_count": null,
   "metadata": {},
   "outputs": [],
   "source": [
    "can_site = ['FCHU','GILL','ISLL','PINA']\n",
    "a = pow.canopus_pow(site=['ISLL'],sdate='1996-01-20',edate='1996-01-21')\n",
    "a = pow.canopus_pow(site=can_site,sdate='1996-01-01',edate='2004-12-31')"
   ]
  }
 ],
 "metadata": {
  "kernelspec": {
   "display_name": "Python 3",
   "language": "python",
   "name": "python3"
  },
  "language_info": {
   "codemirror_mode": {
    "name": "ipython",
    "version": 3
   },
   "file_extension": ".py",
   "mimetype": "text/x-python",
   "name": "python",
   "nbconvert_exporter": "python",
   "pygments_lexer": "ipython3",
   "version": "3.7.3"
  }
 },
 "nbformat": 4,
 "nbformat_minor": 2
}
