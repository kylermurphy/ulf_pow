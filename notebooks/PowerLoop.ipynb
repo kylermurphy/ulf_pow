{
 "cells": [
  {
   "cell_type": "code",
   "execution_count": null,
   "metadata": {},
   "outputs": [],
   "source": [
    "%load_ext autoreload\n",
    "%autoreload 2"
   ]
  },
  {
   "cell_type": "code",
   "execution_count": null,
   "metadata": {},
   "outputs": [],
   "source": [
    "from IPython.core.interactiveshell import InteractiveShell\n",
    "InteractiveShell.ast_node_interactivity = \"all\""
   ]
  },
  {
   "cell_type": "code",
   "execution_count": null,
   "metadata": {},
   "outputs": [],
   "source": [
    "# import the module\n",
    "import os, sys\n",
    "import pandas as pd\n",
    "import numpy as np\n",
    "\n",
    "\n",
    "# cheat to get the ulf_pow added to the pyhton path\n",
    "# without installing\n",
    "#os.chdir('../')\n",
    "#os.getcwd()\n",
    "#sys.path.append(os.path.dirname(os.getcwd()))\n",
    "\n",
    "#from ulf_pow import pow\n",
    "\n",
    "# should also be able to run from\n",
    "# conda activate dev\n",
    "# as the conda.pth of dev\n",
    "# has both ulf_pow and gmag in it\n",
    "\n",
    "from ulf_pow import pow\n",
    "import gmag as gmag"
   ]
  },
  {
   "cell_type": "code",
   "execution_count": null,
   "metadata": {},
   "outputs": [],
   "source": [
    "df=carisma.load('ISLL','2010-01-02',edate='2010-01-05',dl=False)\n",
    "mag_comp = 'H'\n",
    "d = df['ISLL_'+mag_comp.upper()].copy()\n",
    "df.head()\n",
    "d.head()"
   ]
  },
  {
   "cell_type": "code",
   "execution_count": null,
   "metadata": {},
   "outputs": [],
   "source": [
    "car_sites = ['GILL']\n",
    "a = pow.carisma_pow(site =car_sites,sdate='2019-10-24',ndays=1, mcomp='H')"
   ]
  },
  {
   "cell_type": "code",
   "execution_count": null,
   "metadata": {},
   "outputs": [],
   "source": [
    "can_site = ['GILL']\n",
    "a = pow.canopus_pow(site=['GILL'],sdate='1999-01-02',edate='1999-01-08')\n"
   ]
  },
  {
   "cell_type": "code",
   "execution_count": null,
   "metadata": {},
   "outputs": [],
   "source": [
    "img_sites = ['ABK','AND','DOB','DON','HAN','HAR',\n",
    "             'IVA','JCK','KAR','KEV','KIL','KIR',\n",
    "             'LYC','MAS','MEK','MUO','NUR','OUJ',\n",
    "             'PEL','RAN','RVK','SOD','SOL','SOR',\n",
    "             'TAR','TRO','UPS']\n",
    "a = pow.image_pow(site =img_sites,sdate='2016-09-24',edate='2016-10-31',mcomp='H')"
   ]
  },
  {
   "cell_type": "code",
   "execution_count": null,
   "metadata": {},
   "outputs": [],
   "source": [
    "car_sites = ['ANNA','BACK','CONT','DAWS',\n",
    "             'ESKI','FCHP','FCHU','FSIM',\n",
    "             'FSMI','GILL','GULL','ISLL',\n",
    "             'LGRR','MCMU','MSTK','NORM',\n",
    "             'OSAK','OXFO','PINA','POLS',\n",
    "             'RABB','RANK','SACH','TALO',\n",
    "             'THRF','VULC','WEYB','WGRY']\n",
    "#car_sites = ['BACK','FCHP','FCHU',\n",
    "#             'FSIM','FSMI','GILL',\n",
    "#             'ISLL','OXFO','RABB']\n",
    "a = pow.carisma_pow(site =car_sites,sdate='2016-09-24',edate='2016-10-31', mcomp='H')"
   ]
  },
  {
   "cell_type": "code",
   "execution_count": null,
   "metadata": {},
   "outputs": [],
   "source": [
    "can_site = ['FCHU','GILL','ISLL','PINA']\n",
    "a = pow.canopus_pow(site=['ISLL'],sdate='1996-01-20',edate='1996-01-21')\n",
    "a = pow.canopus_pow(site=can_site,sdate='1996-01-01',edate='2004-12-31')"
   ]
  },
  {
   "cell_type": "code",
   "execution_count": null,
   "metadata": {},
   "outputs": [],
   "source": [
    "from gmag import utils\n",
    "#load all CARISMA station data for 2002\n",
    "car_stn = utils.load_station_coor(param='CARISMA',col='array',year=2002)\n",
    "\n",
    "#load GILL data from 2012\n",
    "gill_stn = utils.load_station_coor(param='GILL',col='code',year=2012)"
   ]
  },
  {
   "cell_type": "code",
   "execution_count": null,
   "metadata": {},
   "outputs": [],
   "source": [
    "gill_stn"
   ]
  },
  {
   "cell_type": "code",
   "execution_count": 5,
   "metadata": {},
   "outputs": [
    {
     "name": "stdout",
     "output_type": "stream",
     "text": [
      "Downloading Data:\n",
      "File 20120101ISLL.F01.gz exists use force=True to download\n",
      "File 20120102ISLL.F01.gz exists use force=True to download\n",
      "Loading: D:\\data\\magnetometer\\CARISMA\\2012\\01\\01\\20120101ISLL.F01.gz\n",
      "Loading: D:\\data\\magnetometer\\CARISMA\\2012\\01\\02\\20120102ISLL.F01.gz\n",
      "Downloading Data:\n",
      "File 20120101PINA.F01.gz exists use force=True to download\n",
      "File 20120102PINA.F01.gz exists use force=True to download\n",
      "Loading: D:\\data\\magnetometer\\CARISMA\\2012\\01\\01\\20120101PINA.F01.gz\n",
      "Loading: D:\\data\\magnetometer\\CARISMA\\2012\\01\\02\\20120102PINA.F01.gz\n"
     ]
    }
   ],
   "source": [
    "import gmag.arrays.carisma as carisma\n",
    "df = carisma.load(['ISLL','PINA'],'2012-01-01',ndays=2)"
   ]
  },
  {
   "cell_type": "code",
   "execution_count": null,
   "metadata": {},
   "outputs": [],
   "source": []
  }
 ],
 "metadata": {
  "kernelspec": {
   "display_name": "Python 3",
   "language": "python",
   "name": "python3"
  },
  "language_info": {
   "codemirror_mode": {
    "name": "ipython",
    "version": 3
   },
   "file_extension": ".py",
   "mimetype": "text/x-python",
   "name": "python",
   "nbconvert_exporter": "python",
   "pygments_lexer": "ipython3",
   "version": "3.7.3"
  }
 },
 "nbformat": 4,
 "nbformat_minor": 2
}
