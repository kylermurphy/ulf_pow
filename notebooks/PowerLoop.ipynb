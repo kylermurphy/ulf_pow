{
 "cells": [
  {
   "cell_type": "code",
   "execution_count": 1,
   "metadata": {},
   "outputs": [],
   "source": [
    "%load_ext autoreload\n",
    "%autoreload 2"
   ]
  },
  {
   "cell_type": "code",
   "execution_count": 2,
   "metadata": {},
   "outputs": [],
   "source": [
    "from IPython.core.interactiveshell import InteractiveShell\n",
    "InteractiveShell.ast_node_interactivity = \"all\""
   ]
  },
  {
   "cell_type": "code",
   "execution_count": 3,
   "metadata": {},
   "outputs": [],
   "source": [
    "# import the module\n",
    "import os, sys\n",
    "import pandas as pd\n",
    "import numpy as np\n",
    "\n",
    "\n",
    "# cheat to get the ulf_pow added to the pyhton path\n",
    "# without installing\n",
    "#os.chdir('../')\n",
    "#os.getcwd()\n",
    "#sys.path.append(os.path.dirname(os.getcwd()))\n",
    "\n",
    "#from ulf_pow import pow\n",
    "\n",
    "# should also be able to run from\n",
    "# conda activate dev\n",
    "# as the conda.pth of dev\n",
    "# has both ulf_pow and gmag in it\n",
    "\n",
    "from ulf_pow import pow\n",
    "import gmag.arrays.carisma as carisma"
   ]
  },
  {
   "cell_type": "code",
   "execution_count": 4,
   "metadata": {},
   "outputs": [
    {
     "name": "stdout",
     "output_type": "stream",
     "text": [
      "Loading: D:\\data\\magnetometer\\CARISMA\\2010\\01\\02\\20100102ISLL.F01.gz\n",
      "Loading: D:\\data\\magnetometer\\CARISMA\\2010\\01\\03\\20100103ISLL.F01.gz\n",
      "Loading: D:\\data\\magnetometer\\CARISMA\\2010\\01\\04\\20100104ISLL.F01.gz\n",
      "Loading: D:\\data\\magnetometer\\CARISMA\\2010\\01\\05\\20100105ISLL.F01.gz\n"
     ]
    },
    {
     "data": {
      "text/html": [
       "<div>\n",
       "<style scoped>\n",
       "    .dataframe tbody tr th:only-of-type {\n",
       "        vertical-align: middle;\n",
       "    }\n",
       "\n",
       "    .dataframe tbody tr th {\n",
       "        vertical-align: top;\n",
       "    }\n",
       "\n",
       "    .dataframe thead th {\n",
       "        text-align: right;\n",
       "    }\n",
       "</style>\n",
       "<table border=\"1\" class=\"dataframe\">\n",
       "  <thead>\n",
       "    <tr style=\"text-align: right;\">\n",
       "      <th></th>\n",
       "      <th>ISLL_X</th>\n",
       "      <th>ISLL_Y</th>\n",
       "      <th>ISLL_Z</th>\n",
       "      <th>ISLL_flag</th>\n",
       "      <th>ISLL_H</th>\n",
       "      <th>ISLL_D</th>\n",
       "      <th>ISLL_declination</th>\n",
       "      <th>ISLL_cgmlat</th>\n",
       "      <th>ISLL_cgmlon</th>\n",
       "      <th>ISLL_lshell</th>\n",
       "      <th>ISLL_mlt</th>\n",
       "    </tr>\n",
       "    <tr>\n",
       "      <th>t</th>\n",
       "      <th></th>\n",
       "      <th></th>\n",
       "      <th></th>\n",
       "      <th></th>\n",
       "      <th></th>\n",
       "      <th></th>\n",
       "      <th></th>\n",
       "      <th></th>\n",
       "      <th></th>\n",
       "      <th></th>\n",
       "      <th></th>\n",
       "    </tr>\n",
       "  </thead>\n",
       "  <tbody>\n",
       "    <tr>\n",
       "      <th>2010-01-02 00:00:00</th>\n",
       "      <td>11701.434</td>\n",
       "      <td>97.863</td>\n",
       "      <td>58723.322</td>\n",
       "      <td>.</td>\n",
       "      <td>11701.834504</td>\n",
       "      <td>-14.284861</td>\n",
       "      <td>0.549116</td>\n",
       "      <td>63.57967</td>\n",
       "      <td>333.8031</td>\n",
       "      <td>5.050936</td>\n",
       "      <td>6.943918</td>\n",
       "    </tr>\n",
       "    <tr>\n",
       "      <th>2010-01-02 00:00:01</th>\n",
       "      <td>11701.425</td>\n",
       "      <td>97.841</td>\n",
       "      <td>58723.300</td>\n",
       "      <td>.</td>\n",
       "      <td>11701.825294</td>\n",
       "      <td>-14.306773</td>\n",
       "      <td>0.549116</td>\n",
       "      <td>63.57967</td>\n",
       "      <td>333.8031</td>\n",
       "      <td>5.050936</td>\n",
       "      <td>6.943918</td>\n",
       "    </tr>\n",
       "    <tr>\n",
       "      <th>2010-01-02 00:00:02</th>\n",
       "      <td>11701.419</td>\n",
       "      <td>97.850</td>\n",
       "      <td>58723.297</td>\n",
       "      <td>.</td>\n",
       "      <td>11701.819380</td>\n",
       "      <td>-14.297716</td>\n",
       "      <td>0.549116</td>\n",
       "      <td>63.57967</td>\n",
       "      <td>333.8031</td>\n",
       "      <td>5.050936</td>\n",
       "      <td>6.943918</td>\n",
       "    </tr>\n",
       "    <tr>\n",
       "      <th>2010-01-02 00:00:03</th>\n",
       "      <td>11701.431</td>\n",
       "      <td>97.850</td>\n",
       "      <td>58723.294</td>\n",
       "      <td>.</td>\n",
       "      <td>11701.831380</td>\n",
       "      <td>-14.297831</td>\n",
       "      <td>0.549116</td>\n",
       "      <td>63.57967</td>\n",
       "      <td>333.8031</td>\n",
       "      <td>5.050936</td>\n",
       "      <td>6.943918</td>\n",
       "    </tr>\n",
       "    <tr>\n",
       "      <th>2010-01-02 00:00:04</th>\n",
       "      <td>11701.428</td>\n",
       "      <td>97.862</td>\n",
       "      <td>58723.291</td>\n",
       "      <td>.</td>\n",
       "      <td>11701.828495</td>\n",
       "      <td>-14.285803</td>\n",
       "      <td>0.549116</td>\n",
       "      <td>63.57967</td>\n",
       "      <td>333.8031</td>\n",
       "      <td>5.050936</td>\n",
       "      <td>6.943918</td>\n",
       "    </tr>\n",
       "  </tbody>\n",
       "</table>\n",
       "</div>"
      ],
      "text/plain": [
       "                        ISLL_X  ISLL_Y     ISLL_Z ISLL_flag        ISLL_H  \\\n",
       "t                                                                           \n",
       "2010-01-02 00:00:00  11701.434  97.863  58723.322         .  11701.834504   \n",
       "2010-01-02 00:00:01  11701.425  97.841  58723.300         .  11701.825294   \n",
       "2010-01-02 00:00:02  11701.419  97.850  58723.297         .  11701.819380   \n",
       "2010-01-02 00:00:03  11701.431  97.850  58723.294         .  11701.831380   \n",
       "2010-01-02 00:00:04  11701.428  97.862  58723.291         .  11701.828495   \n",
       "\n",
       "                        ISLL_D  ISLL_declination  ISLL_cgmlat  ISLL_cgmlon  \\\n",
       "t                                                                            \n",
       "2010-01-02 00:00:00 -14.284861          0.549116     63.57967     333.8031   \n",
       "2010-01-02 00:00:01 -14.306773          0.549116     63.57967     333.8031   \n",
       "2010-01-02 00:00:02 -14.297716          0.549116     63.57967     333.8031   \n",
       "2010-01-02 00:00:03 -14.297831          0.549116     63.57967     333.8031   \n",
       "2010-01-02 00:00:04 -14.285803          0.549116     63.57967     333.8031   \n",
       "\n",
       "                     ISLL_lshell  ISLL_mlt  \n",
       "t                                           \n",
       "2010-01-02 00:00:00     5.050936  6.943918  \n",
       "2010-01-02 00:00:01     5.050936  6.943918  \n",
       "2010-01-02 00:00:02     5.050936  6.943918  \n",
       "2010-01-02 00:00:03     5.050936  6.943918  \n",
       "2010-01-02 00:00:04     5.050936  6.943918  "
      ]
     },
     "execution_count": 4,
     "metadata": {},
     "output_type": "execute_result"
    },
    {
     "data": {
      "text/plain": [
       "t\n",
       "2010-01-02 00:00:00    11701.834504\n",
       "2010-01-02 00:00:01    11701.825294\n",
       "2010-01-02 00:00:02    11701.819380\n",
       "2010-01-02 00:00:03    11701.831380\n",
       "2010-01-02 00:00:04    11701.828495\n",
       "Name: ISLL_H, dtype: float64"
      ]
     },
     "execution_count": 4,
     "metadata": {},
     "output_type": "execute_result"
    }
   ],
   "source": [
    "df=carisma.load('ISLL','2010-01-02',edate='2010-01-05',dl=False)\n",
    "mag_comp = 'H'\n",
    "d = df['ISLL_'+mag_comp.upper()].copy()\n",
    "df.head()\n",
    "d.head()"
   ]
  },
  {
   "cell_type": "code",
   "execution_count": 6,
   "metadata": {},
   "outputs": [
    {
     "name": "stdout",
     "output_type": "stream",
     "text": [
      "Downloading Data:\n",
      "File 20191024GILL.F01.gz exists use force=True to download\n",
      "Loading: D:\\data\\magnetometer\\CARISMA\\2019\\10\\24\\20191024GILL.F01.gz\n",
      "NaN found at hour 12\n",
      "NaN found at hour 13\n"
     ]
    }
   ],
   "source": [
    "car_sites = ['GILL']\n",
    "a = pow.carisma_pow(site =car_sites,sdate='2019-10-24',ndays=1, mcomp='H')"
   ]
  },
  {
   "cell_type": "code",
   "execution_count": null,
   "metadata": {},
   "outputs": [],
   "source": [
    "can_site = ['GILL']\n",
    "a = pow.canopus_pow(site=['GILL'],sdate='1999-01-02',edate='1999-01-08')\n"
   ]
  },
  {
   "cell_type": "code",
   "execution_count": null,
   "metadata": {},
   "outputs": [],
   "source": [
    "img_sites = ['ABK','AND','DOB','DON','HAN','HAR',\n",
    "             'IVA','JCK','KAR','KEV','KIL','KIR',\n",
    "             'LYC','MAS','MEK','MUO','NUR','OUJ',\n",
    "             'PEL','RAN','RVK','SOD','SOL','SOR',\n",
    "             'TAR','TRO','UPS']\n",
    "a = ulf_pow.pow.image_pow(site =img_sites,sdate='2019-09-21',edate='2019-10-31')"
   ]
  },
  {
   "cell_type": "code",
   "execution_count": null,
   "metadata": {},
   "outputs": [],
   "source": [
    "car_sites = ['ANNA','BACK','CONT','DAWS',\n",
    "             'ESKI','FCHP','FCHU','FSIM',\n",
    "             'FSMI','GILL','GULL','ISLL',\n",
    "             'LGRR','MCMU','MSTK','NORM',\n",
    "             'OSAK','OXFO','PINA','POLS',\n",
    "             'RABB','RANK','SACH','TALO',\n",
    "             'THRF','VULC','WEYB','WGRY']\n",
    "car_sites = ['BACK','FCHP','FCHU',\n",
    "             'FSIM','FSMI','GILL',\n",
    "             'ISLL','OXFO','RABB']\n",
    "a = ulf_pow.pow.carisma_pow(site =car_sites,sdate='2019-10-24',edate='2019-10-31')"
   ]
  },
  {
   "cell_type": "code",
   "execution_count": null,
   "metadata": {},
   "outputs": [],
   "source": [
    "can_site = ['FCHU','GILL','ISLL','PINA']\n",
    "a = pow.canopus_pow(site=['ISLL'],sdate='1996-01-20',edate='1996-01-21')\n",
    "a = pow.canopus_pow(site=can_site,sdate='1996-01-01',edate='2004-12-31')"
   ]
  }
 ],
 "metadata": {
  "kernelspec": {
   "display_name": "Python 3",
   "language": "python",
   "name": "python3"
  },
  "language_info": {
   "codemirror_mode": {
    "name": "ipython",
    "version": 3
   },
   "file_extension": ".py",
   "mimetype": "text/x-python",
   "name": "python",
   "nbconvert_exporter": "python",
   "pygments_lexer": "ipython3",
   "version": "3.7.3"
  }
 },
 "nbformat": 4,
 "nbformat_minor": 2
}
