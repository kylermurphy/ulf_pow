{
 "cells": [
  {
   "cell_type": "markdown",
   "metadata": {},
   "source": [
    "# Van Allen Probe Era Power for Simon Wing\n",
    "\n",
    "Summed ULF wave power from 2012-01-01 to 2019-10-01. \n",
    "\n",
    "ULF wave power is summed between 0.1-15 mHz and has units of $nT^2/mHz$.\n",
    "\n"
   ]
  },
  {
   "cell_type": "code",
   "execution_count": 1,
   "metadata": {},
   "outputs": [],
   "source": [
    "#print all output\n",
    "from IPython.core.interactiveshell import InteractiveShell\n",
    "InteractiveShell.ast_node_interactivity = \"all\"\n",
    "\n",
    "%matplotlib inline"
   ]
  },
  {
   "cell_type": "code",
   "execution_count": 2,
   "metadata": {},
   "outputs": [],
   "source": [
    "import pandas as pd\n",
    "import numpy as np\n",
    "import os as os"
   ]
  },
  {
   "cell_type": "code",
   "execution_count": 3,
   "metadata": {},
   "outputs": [],
   "source": [
    "# read the hdf5 file\n",
    "# created with ulf_pow\n",
    "# read in dayside ULF wave power\n",
    "# Lshell range 6 - 7 RE\n",
    "\n",
    "sum_r = pd.read_hdf(os.path.join(\"D:\\\\data\\\\magnetometer\\\\psd\\\\\",'Wing.h5'),\n",
    "                    where='mlt >= 6 & mlt <= 18 & lshell >= 6.0 & lshell <= 7.0 & spsd>1E-6')\n"
   ]
  },
  {
   "cell_type": "code",
   "execution_count": 4,
   "metadata": {},
   "outputs": [
    {
     "data": {
      "text/html": [
       "<div>\n",
       "<style scoped>\n",
       "    .dataframe tbody tr th:only-of-type {\n",
       "        vertical-align: middle;\n",
       "    }\n",
       "\n",
       "    .dataframe tbody tr th {\n",
       "        vertical-align: top;\n",
       "    }\n",
       "\n",
       "    .dataframe thead th {\n",
       "        text-align: right;\n",
       "    }\n",
       "</style>\n",
       "<table border=\"1\" class=\"dataframe\">\n",
       "  <thead>\n",
       "    <tr style=\"text-align: right;\">\n",
       "      <th></th>\n",
       "      <th>ipsd</th>\n",
       "      <th>lshell</th>\n",
       "      <th>mlt</th>\n",
       "      <th>spsd</th>\n",
       "    </tr>\n",
       "  </thead>\n",
       "  <tbody>\n",
       "    <tr>\n",
       "      <th>count</th>\n",
       "      <td>3.253860e+05</td>\n",
       "      <td>325386.000000</td>\n",
       "      <td>325386.000000</td>\n",
       "      <td>325386.000000</td>\n",
       "    </tr>\n",
       "    <tr>\n",
       "      <th>mean</th>\n",
       "      <td>7.791405e+00</td>\n",
       "      <td>6.423291</td>\n",
       "      <td>11.999036</td>\n",
       "      <td>110.378244</td>\n",
       "    </tr>\n",
       "    <tr>\n",
       "      <th>std</th>\n",
       "      <td>7.263074e+01</td>\n",
       "      <td>0.239722</td>\n",
       "      <td>3.467678</td>\n",
       "      <td>1028.935496</td>\n",
       "    </tr>\n",
       "    <tr>\n",
       "      <th>min</th>\n",
       "      <td>6.898037e-07</td>\n",
       "      <td>6.008310</td>\n",
       "      <td>6.002530</td>\n",
       "      <td>0.000010</td>\n",
       "    </tr>\n",
       "    <tr>\n",
       "      <th>25%</th>\n",
       "      <td>2.607663e-01</td>\n",
       "      <td>6.285645</td>\n",
       "      <td>8.992790</td>\n",
       "      <td>3.694189</td>\n",
       "    </tr>\n",
       "    <tr>\n",
       "      <th>50%</th>\n",
       "      <td>8.560397e-01</td>\n",
       "      <td>6.394037</td>\n",
       "      <td>12.002530</td>\n",
       "      <td>12.127229</td>\n",
       "    </tr>\n",
       "    <tr>\n",
       "      <th>75%</th>\n",
       "      <td>3.242610e+00</td>\n",
       "      <td>6.558999</td>\n",
       "      <td>15.012260</td>\n",
       "      <td>45.936975</td>\n",
       "    </tr>\n",
       "    <tr>\n",
       "      <th>max</th>\n",
       "      <td>1.292909e+04</td>\n",
       "      <td>6.969525</td>\n",
       "      <td>17.992790</td>\n",
       "      <td>183162.118535</td>\n",
       "    </tr>\n",
       "  </tbody>\n",
       "</table>\n",
       "</div>"
      ],
      "text/plain": [
       "               ipsd         lshell            mlt           spsd\n",
       "count  3.253860e+05  325386.000000  325386.000000  325386.000000\n",
       "mean   7.791405e+00       6.423291      11.999036     110.378244\n",
       "std    7.263074e+01       0.239722       3.467678    1028.935496\n",
       "min    6.898037e-07       6.008310       6.002530       0.000010\n",
       "25%    2.607663e-01       6.285645       8.992790       3.694189\n",
       "50%    8.560397e-01       6.394037      12.002530      12.127229\n",
       "75%    3.242610e+00       6.558999      15.012260      45.936975\n",
       "max    1.292909e+04       6.969525      17.992790  183162.118535"
      ]
     },
     "execution_count": 4,
     "metadata": {},
     "output_type": "execute_result"
    }
   ],
   "source": [
    "sum_r.describe()"
   ]
  },
  {
   "cell_type": "code",
   "execution_count": 5,
   "metadata": {},
   "outputs": [
    {
     "data": {
      "text/html": [
       "<div>\n",
       "<style scoped>\n",
       "    .dataframe tbody tr th:only-of-type {\n",
       "        vertical-align: middle;\n",
       "    }\n",
       "\n",
       "    .dataframe tbody tr th {\n",
       "        vertical-align: top;\n",
       "    }\n",
       "\n",
       "    .dataframe thead th {\n",
       "        text-align: right;\n",
       "    }\n",
       "</style>\n",
       "<table border=\"1\" class=\"dataframe\">\n",
       "  <thead>\n",
       "    <tr style=\"text-align: right;\">\n",
       "      <th></th>\n",
       "      <th>t</th>\n",
       "      <th>ipsd</th>\n",
       "      <th>lshell</th>\n",
       "      <th>mlt</th>\n",
       "      <th>spsd</th>\n",
       "      <th>stn</th>\n",
       "    </tr>\n",
       "  </thead>\n",
       "  <tbody>\n",
       "    <tr>\n",
       "      <th>0</th>\n",
       "      <td>2012-01-06 00:00:00</td>\n",
       "      <td>0.778521</td>\n",
       "      <td>6.618366</td>\n",
       "      <td>17.088707</td>\n",
       "      <td>11.029052</td>\n",
       "      <td>BACK</td>\n",
       "    </tr>\n",
       "    <tr>\n",
       "      <th>1</th>\n",
       "      <td>2012-01-06 13:00:00</td>\n",
       "      <td>2.106006</td>\n",
       "      <td>6.618366</td>\n",
       "      <td>6.088707</td>\n",
       "      <td>29.835080</td>\n",
       "      <td>BACK</td>\n",
       "    </tr>\n",
       "    <tr>\n",
       "      <th>2</th>\n",
       "      <td>2012-01-06 14:00:00</td>\n",
       "      <td>1.255970</td>\n",
       "      <td>6.618366</td>\n",
       "      <td>7.088707</td>\n",
       "      <td>17.792905</td>\n",
       "      <td>BACK</td>\n",
       "    </tr>\n",
       "    <tr>\n",
       "      <th>3</th>\n",
       "      <td>2012-01-06 15:00:00</td>\n",
       "      <td>3.693641</td>\n",
       "      <td>6.618366</td>\n",
       "      <td>8.088707</td>\n",
       "      <td>52.326578</td>\n",
       "      <td>BACK</td>\n",
       "    </tr>\n",
       "    <tr>\n",
       "      <th>4</th>\n",
       "      <td>2012-01-06 16:00:00</td>\n",
       "      <td>4.586043</td>\n",
       "      <td>6.618366</td>\n",
       "      <td>9.088707</td>\n",
       "      <td>64.968936</td>\n",
       "      <td>BACK</td>\n",
       "    </tr>\n",
       "  </tbody>\n",
       "</table>\n",
       "</div>"
      ],
      "text/plain": [
       "                    t      ipsd    lshell        mlt       spsd   stn\n",
       "0 2012-01-06 00:00:00  0.778521  6.618366  17.088707  11.029052  BACK\n",
       "1 2012-01-06 13:00:00  2.106006  6.618366   6.088707  29.835080  BACK\n",
       "2 2012-01-06 14:00:00  1.255970  6.618366   7.088707  17.792905  BACK\n",
       "3 2012-01-06 15:00:00  3.693641  6.618366   8.088707  52.326578  BACK\n",
       "4 2012-01-06 16:00:00  4.586043  6.618366   9.088707  64.968936  BACK"
      ]
     },
     "execution_count": 5,
     "metadata": {},
     "output_type": "execute_result"
    }
   ],
   "source": [
    "sum_r = sum_r.reset_index()\n",
    "sum_r.head()"
   ]
  },
  {
   "cell_type": "code",
   "execution_count": 6,
   "metadata": {},
   "outputs": [],
   "source": [
    "# create a time series of dates\n",
    "sdate = '2012-01-01'\n",
    "edate = '2019-10-31'\n",
    "d_arr = pd.Series(pd.date_range(start=sdate, end=edate, freq='h'))\n",
    "\n",
    "p_arr = np.zeros(d_arr.shape)\n",
    "l_arr = np.zeros(d_arr.shape)\n",
    "\n",
    "#loop over date array and average \n",
    "i=0\n",
    "for dt in d_arr:\n",
    "    p_arr[i] = sum_r.loc[sum_r['t'] == dt].spsd.mean(skipna=True)\n",
    "    i=i+1"
   ]
  },
  {
   "cell_type": "code",
   "execution_count": 7,
   "metadata": {},
   "outputs": [],
   "source": [
    "p_df = pd.DataFrame(data=p_arr, index=d_arr, columns=['SumPSD'])\n",
    "p_df.index.name = 'DateTime'"
   ]
  },
  {
   "cell_type": "code",
   "execution_count": 8,
   "metadata": {},
   "outputs": [
    {
     "data": {
      "text/html": [
       "<div>\n",
       "<style scoped>\n",
       "    .dataframe tbody tr th:only-of-type {\n",
       "        vertical-align: middle;\n",
       "    }\n",
       "\n",
       "    .dataframe tbody tr th {\n",
       "        vertical-align: top;\n",
       "    }\n",
       "\n",
       "    .dataframe thead th {\n",
       "        text-align: right;\n",
       "    }\n",
       "</style>\n",
       "<table border=\"1\" class=\"dataframe\">\n",
       "  <thead>\n",
       "    <tr style=\"text-align: right;\">\n",
       "      <th></th>\n",
       "      <th>SumPSD</th>\n",
       "    </tr>\n",
       "    <tr>\n",
       "      <th>DateTime</th>\n",
       "      <th></th>\n",
       "    </tr>\n",
       "  </thead>\n",
       "  <tbody>\n",
       "    <tr>\n",
       "      <th>2012-01-01 00:00:00</th>\n",
       "      <td>3.578903</td>\n",
       "    </tr>\n",
       "    <tr>\n",
       "      <th>2012-01-01 01:00:00</th>\n",
       "      <td>14.560520</td>\n",
       "    </tr>\n",
       "    <tr>\n",
       "      <th>2012-01-01 02:00:00</th>\n",
       "      <td>7.825700</td>\n",
       "    </tr>\n",
       "    <tr>\n",
       "      <th>2012-01-01 03:00:00</th>\n",
       "      <td>6.703653</td>\n",
       "    </tr>\n",
       "    <tr>\n",
       "      <th>2012-01-01 04:00:00</th>\n",
       "      <td>4.515312</td>\n",
       "    </tr>\n",
       "  </tbody>\n",
       "</table>\n",
       "</div>"
      ],
      "text/plain": [
       "                        SumPSD\n",
       "DateTime                      \n",
       "2012-01-01 00:00:00   3.578903\n",
       "2012-01-01 01:00:00  14.560520\n",
       "2012-01-01 02:00:00   7.825700\n",
       "2012-01-01 03:00:00   6.703653\n",
       "2012-01-01 04:00:00   4.515312"
      ]
     },
     "execution_count": 8,
     "metadata": {},
     "output_type": "execute_result"
    },
    {
     "data": {
      "text/html": [
       "<div>\n",
       "<style scoped>\n",
       "    .dataframe tbody tr th:only-of-type {\n",
       "        vertical-align: middle;\n",
       "    }\n",
       "\n",
       "    .dataframe tbody tr th {\n",
       "        vertical-align: top;\n",
       "    }\n",
       "\n",
       "    .dataframe thead th {\n",
       "        text-align: right;\n",
       "    }\n",
       "</style>\n",
       "<table border=\"1\" class=\"dataframe\">\n",
       "  <thead>\n",
       "    <tr style=\"text-align: right;\">\n",
       "      <th></th>\n",
       "      <th>SumPSD</th>\n",
       "    </tr>\n",
       "  </thead>\n",
       "  <tbody>\n",
       "    <tr>\n",
       "      <th>count</th>\n",
       "      <td>67629.000000</td>\n",
       "    </tr>\n",
       "    <tr>\n",
       "      <th>mean</th>\n",
       "      <td>125.040046</td>\n",
       "    </tr>\n",
       "    <tr>\n",
       "      <th>std</th>\n",
       "      <td>1013.537082</td>\n",
       "    </tr>\n",
       "    <tr>\n",
       "      <th>min</th>\n",
       "      <td>0.029426</td>\n",
       "    </tr>\n",
       "    <tr>\n",
       "      <th>25%</th>\n",
       "      <td>4.202922</td>\n",
       "    </tr>\n",
       "    <tr>\n",
       "      <th>50%</th>\n",
       "      <td>13.347456</td>\n",
       "    </tr>\n",
       "    <tr>\n",
       "      <th>75%</th>\n",
       "      <td>50.238105</td>\n",
       "    </tr>\n",
       "    <tr>\n",
       "      <th>max</th>\n",
       "      <td>118596.932584</td>\n",
       "    </tr>\n",
       "  </tbody>\n",
       "</table>\n",
       "</div>"
      ],
      "text/plain": [
       "              SumPSD\n",
       "count   67629.000000\n",
       "mean      125.040046\n",
       "std      1013.537082\n",
       "min         0.029426\n",
       "25%         4.202922\n",
       "50%        13.347456\n",
       "75%        50.238105\n",
       "max    118596.932584"
      ]
     },
     "execution_count": 8,
     "metadata": {},
     "output_type": "execute_result"
    }
   ],
   "source": [
    "p_df.head()\n",
    "p_df.describe()"
   ]
  },
  {
   "cell_type": "code",
   "execution_count": 9,
   "metadata": {},
   "outputs": [
    {
     "data": {
      "text/plain": [
       "<matplotlib.axes._subplots.AxesSubplot at 0x229a79f2c88>"
      ]
     },
     "execution_count": 9,
     "metadata": {},
     "output_type": "execute_result"
    },
    {
     "data": {
      "image/png": "[encoded data removed]",
      "text/plain": [
       "<Figure size 864x288 with 1 Axes>"
      ]
     },
     "metadata": {
      "needs_background": "light"
     },
     "output_type": "display_data"
    }
   ],
   "source": [
    "p_df.plot(logy=True,figsize=[12,4], xlim=['2019-08-01','2019-10-01'])"
   ]
  },
  {
   "cell_type": "code",
   "execution_count": 10,
   "metadata": {},
   "outputs": [
    {
     "data": {
      "text/plain": [
       "True"
      ]
     },
     "execution_count": 10,
     "metadata": {},
     "output_type": "execute_result"
    },
    {
     "data": {
      "text/plain": [
       "1012"
      ]
     },
     "execution_count": 10,
     "metadata": {},
     "output_type": "execute_result"
    }
   ],
   "source": [
    "p_df['SumPSD'].isnull().values.any()\n",
    "p_df['SumPSD'].isnull().sum()"
   ]
  },
  {
   "cell_type": "code",
   "execution_count": 12,
   "metadata": {},
   "outputs": [],
   "source": [
    "d_d = 'D:\\\\data\\\\magnetometer\\\\psd\\\\'\n",
    "p_df.to_hdf(os.path.join(d_d, 'Wing_VanAllenEra_Summed_ulf_pow.h5'), key='p_df',\n",
    "                mode='w',  format='table', data_columns=True, complevel=9, complib='blosc:snappy')"
   ]
  }
 ],
 "metadata": {
  "kernelspec": {
   "display_name": "Python 3",
   "language": "python",
   "name": "python3"
  },
  "language_info": {
   "codemirror_mode": {
    "name": "ipython",
    "version": 3
   },
   "file_extension": ".py",
   "mimetype": "text/x-python",
   "name": "python",
   "nbconvert_exporter": "python",
   "pygments_lexer": "ipython3",
   "version": "3.7.3"
  }
 },
 "nbformat": 4,
 "nbformat_minor": 2
}
